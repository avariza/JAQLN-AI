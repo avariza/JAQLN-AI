{
 "cells": [
  {
   "cell_type": "code",
   "execution_count": 2,
   "metadata": {},
   "outputs": [
    {
     "name": "stdout",
     "output_type": "stream",
     "text": [
      "Requirement already satisfied: langchain in /Users/angieariza/Desktop/JAQLN-AI/myenv/lib/python3.9/site-packages (0.0.346)\n",
      "Collecting langchain\n",
      "  Downloading langchain-0.0.347-py3-none-any.whl.metadata (16 kB)\n",
      "Requirement already satisfied: PyYAML>=5.3 in /Users/angieariza/Desktop/JAQLN-AI/myenv/lib/python3.9/site-packages (from langchain) (6.0.1)\n",
      "Requirement already satisfied: SQLAlchemy<3,>=1.4 in /Users/angieariza/Desktop/JAQLN-AI/myenv/lib/python3.9/site-packages (from langchain) (2.0.23)\n",
      "Requirement already satisfied: aiohttp<4.0.0,>=3.8.3 in /Users/angieariza/Desktop/JAQLN-AI/myenv/lib/python3.9/site-packages (from langchain) (3.9.1)\n",
      "Requirement already satisfied: anyio<4.0 in /Users/angieariza/Desktop/JAQLN-AI/myenv/lib/python3.9/site-packages (from langchain) (3.7.1)\n",
      "Requirement already satisfied: async-timeout<5.0.0,>=4.0.0 in /Users/angieariza/Desktop/JAQLN-AI/myenv/lib/python3.9/site-packages (from langchain) (4.0.3)\n",
      "Requirement already satisfied: dataclasses-json<0.7,>=0.5.7 in /Users/angieariza/Desktop/JAQLN-AI/myenv/lib/python3.9/site-packages (from langchain) (0.6.3)\n",
      "Requirement already satisfied: jsonpatch<2.0,>=1.33 in /Users/angieariza/Desktop/JAQLN-AI/myenv/lib/python3.9/site-packages (from langchain) (1.33)\n",
      "Collecting langchain-core<0.1,>=0.0.11 (from langchain)\n",
      "  Downloading langchain_core-0.0.11-py3-none-any.whl.metadata (751 bytes)\n",
      "Requirement already satisfied: langsmith<0.1.0,>=0.0.63 in /Users/angieariza/Desktop/JAQLN-AI/myenv/lib/python3.9/site-packages (from langchain) (0.0.69)\n",
      "Requirement already satisfied: numpy<2,>=1 in /Users/angieariza/Desktop/JAQLN-AI/myenv/lib/python3.9/site-packages (from langchain) (1.26.2)\n",
      "Requirement already satisfied: pydantic<3,>=1 in /Users/angieariza/Desktop/JAQLN-AI/myenv/lib/python3.9/site-packages (from langchain) (2.5.2)\n",
      "Requirement already satisfied: requests<3,>=2 in /Users/angieariza/Desktop/JAQLN-AI/myenv/lib/python3.9/site-packages (from langchain) (2.31.0)\n",
      "Requirement already satisfied: tenacity<9.0.0,>=8.1.0 in /Users/angieariza/Desktop/JAQLN-AI/myenv/lib/python3.9/site-packages (from langchain) (8.2.3)\n",
      "Requirement already satisfied: attrs>=17.3.0 in /Users/angieariza/Desktop/JAQLN-AI/myenv/lib/python3.9/site-packages (from aiohttp<4.0.0,>=3.8.3->langchain) (23.1.0)\n",
      "Requirement already satisfied: multidict<7.0,>=4.5 in /Users/angieariza/Desktop/JAQLN-AI/myenv/lib/python3.9/site-packages (from aiohttp<4.0.0,>=3.8.3->langchain) (6.0.4)\n",
      "Requirement already satisfied: yarl<2.0,>=1.0 in /Users/angieariza/Desktop/JAQLN-AI/myenv/lib/python3.9/site-packages (from aiohttp<4.0.0,>=3.8.3->langchain) (1.9.4)\n",
      "Requirement already satisfied: frozenlist>=1.1.1 in /Users/angieariza/Desktop/JAQLN-AI/myenv/lib/python3.9/site-packages (from aiohttp<4.0.0,>=3.8.3->langchain) (1.4.0)\n",
      "Requirement already satisfied: aiosignal>=1.1.2 in /Users/angieariza/Desktop/JAQLN-AI/myenv/lib/python3.9/site-packages (from aiohttp<4.0.0,>=3.8.3->langchain) (1.3.1)\n",
      "Requirement already satisfied: idna>=2.8 in /Users/angieariza/Desktop/JAQLN-AI/myenv/lib/python3.9/site-packages (from anyio<4.0->langchain) (3.6)\n",
      "Requirement already satisfied: sniffio>=1.1 in /Users/angieariza/Desktop/JAQLN-AI/myenv/lib/python3.9/site-packages (from anyio<4.0->langchain) (1.3.0)\n",
      "Requirement already satisfied: exceptiongroup in /Users/angieariza/Desktop/JAQLN-AI/myenv/lib/python3.9/site-packages (from anyio<4.0->langchain) (1.2.0)\n",
      "Requirement already satisfied: marshmallow<4.0.0,>=3.18.0 in /Users/angieariza/Desktop/JAQLN-AI/myenv/lib/python3.9/site-packages (from dataclasses-json<0.7,>=0.5.7->langchain) (3.20.1)\n",
      "Requirement already satisfied: typing-inspect<1,>=0.4.0 in /Users/angieariza/Desktop/JAQLN-AI/myenv/lib/python3.9/site-packages (from dataclasses-json<0.7,>=0.5.7->langchain) (0.9.0)\n",
      "Requirement already satisfied: jsonpointer>=1.9 in /Users/angieariza/Desktop/JAQLN-AI/myenv/lib/python3.9/site-packages (from jsonpatch<2.0,>=1.33->langchain) (2.4)\n",
      "Requirement already satisfied: annotated-types>=0.4.0 in /Users/angieariza/Desktop/JAQLN-AI/myenv/lib/python3.9/site-packages (from pydantic<3,>=1->langchain) (0.6.0)\n",
      "Requirement already satisfied: pydantic-core==2.14.5 in /Users/angieariza/Desktop/JAQLN-AI/myenv/lib/python3.9/site-packages (from pydantic<3,>=1->langchain) (2.14.5)\n",
      "Requirement already satisfied: typing-extensions>=4.6.1 in /Users/angieariza/Desktop/JAQLN-AI/myenv/lib/python3.9/site-packages (from pydantic<3,>=1->langchain) (4.8.0)\n",
      "Requirement already satisfied: charset-normalizer<4,>=2 in /Users/angieariza/Desktop/JAQLN-AI/myenv/lib/python3.9/site-packages (from requests<3,>=2->langchain) (3.3.2)\n",
      "Requirement already satisfied: urllib3<3,>=1.21.1 in /Users/angieariza/Desktop/JAQLN-AI/myenv/lib/python3.9/site-packages (from requests<3,>=2->langchain) (2.1.0)\n",
      "Requirement already satisfied: certifi>=2017.4.17 in /Users/angieariza/Desktop/JAQLN-AI/myenv/lib/python3.9/site-packages (from requests<3,>=2->langchain) (2023.11.17)\n",
      "Requirement already satisfied: greenlet!=0.4.17 in /Users/angieariza/Desktop/JAQLN-AI/myenv/lib/python3.9/site-packages (from SQLAlchemy<3,>=1.4->langchain) (3.0.1)\n",
      "Requirement already satisfied: packaging>=17.0 in /Users/angieariza/Desktop/JAQLN-AI/myenv/lib/python3.9/site-packages (from marshmallow<4.0.0,>=3.18.0->dataclasses-json<0.7,>=0.5.7->langchain) (23.2)\n",
      "Requirement already satisfied: mypy-extensions>=0.3.0 in /Users/angieariza/Desktop/JAQLN-AI/myenv/lib/python3.9/site-packages (from typing-inspect<1,>=0.4.0->dataclasses-json<0.7,>=0.5.7->langchain) (1.0.0)\n",
      "Downloading langchain-0.0.347-py3-none-any.whl (2.0 MB)\n",
      "\u001b[2K   \u001b[90m━━━━━━━━━━━━━━━━━━━━━━━━━━━━━━━━━━━━━━━━\u001b[0m \u001b[32m2.0/2.0 MB\u001b[0m \u001b[31m22.6 MB/s\u001b[0m eta \u001b[36m0:00:00\u001b[0m00:01\u001b[0m00:01\u001b[0m\n",
      "\u001b[?25hDownloading langchain_core-0.0.11-py3-none-any.whl (181 kB)\n",
      "\u001b[2K   \u001b[90m━━━━━━━━━━━━━━━━━━━━━━━━━━━━━━━━━━━━━━━━\u001b[0m \u001b[32m181.4/181.4 kB\u001b[0m \u001b[31m7.0 MB/s\u001b[0m eta \u001b[36m0:00:00\u001b[0m\n",
      "\u001b[?25hInstalling collected packages: langchain-core, langchain\n",
      "  Attempting uninstall: langchain-core\n",
      "    Found existing installation: langchain-core 0.0.10\n",
      "    Uninstalling langchain-core-0.0.10:\n",
      "      Successfully uninstalled langchain-core-0.0.10\n",
      "  Attempting uninstall: langchain\n",
      "    Found existing installation: langchain 0.0.346\n",
      "    Uninstalling langchain-0.0.346:\n",
      "      Successfully uninstalled langchain-0.0.346\n",
      "Successfully installed langchain-0.0.347 langchain-core-0.0.11\n"
     ]
    }
   ],
   "source": [
    "#!pip install langchain transformers\n",
    "!pip install langchain --upgrade\n"
   ]
  },
  {
   "cell_type": "code",
   "execution_count": 1,
   "metadata": {},
   "outputs": [
    {
     "name": "stderr",
     "output_type": "stream",
     "text": [
      "/Users/angieariza/Desktop/JAQLN-AI/myenv/lib/python3.9/site-packages/tqdm/auto.py:21: TqdmWarning: IProgress not found. Please update jupyter and ipywidgets. See https://ipywidgets.readthedocs.io/en/stable/user_install.html\n",
      "  from .autonotebook import tqdm as notebook_tqdm\n",
      "None of PyTorch, TensorFlow >= 2.0, or Flax have been found. Models won't be available and only tokenizers, configuration and file/data utilities can be used.\n"
     ]
    },
    {
     "ename": "ImportError",
     "evalue": "cannot import name 'Chain' from 'langchain' (/Users/angieariza/Desktop/JAQLN-AI/myenv/lib/python3.9/site-packages/langchain/__init__.py)",
     "output_type": "error",
     "traceback": [
      "\u001b[0;31m---------------------------------------------------------------------------\u001b[0m",
      "\u001b[0;31mImportError\u001b[0m                               Traceback (most recent call last)",
      "\u001b[1;32m/Users/angieariza/Desktop/JAQLN-AI/tasks/model/pipeline.ipynb Cell 2\u001b[0m line \u001b[0;36m2\n\u001b[1;32m      <a href='vscode-notebook-cell:/Users/angieariza/Desktop/JAQLN-AI/tasks/model/pipeline.ipynb#W0sZmlsZQ%3D%3D?line=0'>1</a>\u001b[0m \u001b[39mfrom\u001b[39;00m \u001b[39mtransformers\u001b[39;00m \u001b[39mimport\u001b[39;00m pipeline\n\u001b[0;32m----> <a href='vscode-notebook-cell:/Users/angieariza/Desktop/JAQLN-AI/tasks/model/pipeline.ipynb#W0sZmlsZQ%3D%3D?line=1'>2</a>\u001b[0m \u001b[39mfrom\u001b[39;00m \u001b[39mlangchain\u001b[39;00m \u001b[39mimport\u001b[39;00m Chain, links\n",
      "\u001b[0;31mImportError\u001b[0m: cannot import name 'Chain' from 'langchain' (/Users/angieariza/Desktop/JAQLN-AI/myenv/lib/python3.9/site-packages/langchain/__init__.py)"
     ]
    }
   ],
   "source": [
    "from transformers import pipeline\n",
    "from langchain import Chain, links"
   ]
  },
  {
   "cell_type": "code",
   "execution_count": null,
   "metadata": {},
   "outputs": [],
   "source": [
    "\n",
    "# Load the traffic violation dataset\n",
    "data_path = 'path/to/your/traffic/violation/dataset.csv'\n",
    "df = Chain.read_csv(data_path)\n",
    "\n",
    "# Preprocess the data\n",
    "df_cleaned = (\n",
    "    df\n",
    "    .dropna(subset=['Description', 'Charge'])  # Assuming 'Description' and 'Charge' columns are relevant\n",
    "    .rename(columns={'Description': 'text', 'Charge': 'label'})\n",
    "    .select(['text', 'label'])\n",
    ")\n",
    "\n",
    "# Create a Langchain QA chain for training\n",
    "qa_chain = (\n",
    "    Chain\n",
    "    .link(links.split_train_test(test_size=0.2, random_state=42))\n",
    "    .chain('train', lambda x: x[0])\n",
    "    .chain('test', lambda x: x[1])\n",
    ")\n",
    "\n",
    "# Train a simple QA model using the transformers library\n",
    "qa_model = pipeline('question-answering')\n",
    "qa_chain.train(\n",
    "    model=qa_model,\n",
    "    input_col='train',\n",
    "    output_col='predictions',\n",
    "    target_col='test',\n",
    "    query_col='text',\n",
    "    target_query_col='text',\n",
    "    query_suffix='_QA',\n",
    "    target_suffix='_QA'\n",
    ")\n",
    "\n",
    "# Create a Conversational Retrieval QA chain\n",
    "conv_retrieval_qa_chain = (\n",
    "    Chain\n",
    "    .link(links.merge(['text', 'label'], suffix='_QA'))\n",
    "    .chain('retrieve', lambda x: x[['text_QA', 'label_QA']])\n",
    ")\n",
    "\n",
    "# Evaluate the model on the test set\n",
    "conv_retrieval_qa_chain.evaluate(\n",
    "    model=qa_model,\n",
    "    input_col='test',\n",
    "    output_col='predictions',\n",
    "    query_col='text_QA',\n",
    "    target_col='label_QA'\n",
    ")\n"
   ]
  }
 ],
 "metadata": {
  "kernelspec": {
   "display_name": "myenv",
   "language": "python",
   "name": "python3"
  },
  "language_info": {
   "codemirror_mode": {
    "name": "ipython",
    "version": 3
   },
   "file_extension": ".py",
   "mimetype": "text/x-python",
   "name": "python",
   "nbconvert_exporter": "python",
   "pygments_lexer": "ipython3",
   "version": "3.9.0"
  }
 },
 "nbformat": 4,
 "nbformat_minor": 2
}
